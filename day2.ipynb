{
  "nbformat": 4,
  "nbformat_minor": 0,
  "metadata": {
    "colab": {
      "name": "day2.ipynb",
      "provenance": [],
      "collapsed_sections": [],
      "authorship_tag": "ABX9TyMOVnm+d17Nc7h7N0vhwOXL",
      "include_colab_link": true
    },
    "kernelspec": {
      "name": "python3",
      "display_name": "Python 3"
    },
    "language_info": {
      "name": "python"
    }
  },
  "cells": [
    {
      "cell_type": "markdown",
      "metadata": {
        "id": "view-in-github",
        "colab_type": "text"
      },
      "source": [
        "<a href=\"https://colab.research.google.com/github/Jyoshnagundapu/2216134_AIML_BootCamp/blob/main/day2.ipynb\" target=\"_parent\"><img src=\"https://colab.research.google.com/assets/colab-badge.svg\" alt=\"Open In Colab\"/></a>"
      ]
    },
    {
      "cell_type": "code",
      "source": [
        "#if statement\n",
        "var=100\n",
        "if var>0:\n",
        "  print(\"true\")\n",
        "  print(var)\n",
        "\n",
        "var1=0\n",
        "if var1>0:\n",
        "  print(\"true\")\n",
        "  print(var1)"
      ],
      "metadata": {
        "colab": {
          "base_uri": "https://localhost:8080/"
        },
        "id": "dS2l0OyH8KBr",
        "outputId": "5d3549ab-3c68-4cd0-907a-91e6045c784f"
      },
      "execution_count": 25,
      "outputs": [
        {
          "output_type": "stream",
          "name": "stdout",
          "text": [
            "true\n",
            "100\n"
          ]
        }
      ]
    },
    {
      "cell_type": "code",
      "source": [
        "#if..else statement\n",
        "var2=-1\n",
        "if var2>0:\n",
        "  print(\"true\")\n",
        "  print(var2)\n",
        "else:\n",
        "  print(\"false\")\n",
        "  print(var2)"
      ],
      "metadata": {
        "colab": {
          "base_uri": "https://localhost:8080/"
        },
        "id": "MHfd1hZc8WiC",
        "outputId": "d82eb80a-017a-4e4b-d68e-8ad0038d846f"
      },
      "execution_count": 26,
      "outputs": [
        {
          "output_type": "stream",
          "name": "stdout",
          "text": [
            "false\n",
            "-1\n"
          ]
        }
      ]
    },
    {
      "cell_type": "code",
      "source": [
        "#nested if statements\n",
        "#bus tickets\n",
        "age=int(input(\"Enter age:\"))\n",
        "if age>12 and age<=18:\n",
        "  if age<15:\n",
        "    print(\"Quarter ticket implies\")\n",
        "  elif age==15:\n",
        "    print(\"Quarter ticket + discount\")\n",
        "  else:\n",
        "    print(\"Half ticket\")\n",
        "elif age>=19 and age<=60:\n",
        "  print(\"Full ticket\")\n",
        "elif age>60:\n",
        "  print(\"Full ticket + discount\")\n",
        "else:\n",
        "  print(\"No ticket\")"
      ],
      "metadata": {
        "colab": {
          "base_uri": "https://localhost:8080/"
        },
        "id": "kAo3MeqR8aBh",
        "outputId": "eabdc5c9-cc7c-48d2-f59f-f232ba42f611"
      },
      "execution_count": 27,
      "outputs": [
        {
          "output_type": "stream",
          "name": "stdout",
          "text": [
            "Enter age:21\n",
            "Full ticket\n"
          ]
        }
      ]
    },
    {
      "cell_type": "code",
      "source": [
        "#for loop\n",
        "num=[6,5,3,8,4,2,5,4,11]\n",
        "sum=0\n",
        "for val in num:\n",
        "  sum=sum+val\n",
        "print(\"The sum is\",sum)\n",
        "print(\"\\n\")\n",
        "\n",
        "for i in range(1,11):\n",
        "  print(i)\n",
        "\n",
        "print(\"\\n\")\n",
        "\n",
        "for i in range(1,11,2):\n",
        "  print(i)\n",
        "\n",
        "print(\"\\n\")\n",
        "\n",
        "x=[2,3,4,5,6,7,8]\n",
        "y=[]\n",
        "for a in x:\n",
        "  if a%2==0:\n",
        "    y.append(a)\n",
        "print(y)\n",
        "print(\"\\n\")"
      ],
      "metadata": {
        "colab": {
          "base_uri": "https://localhost:8080/"
        },
        "id": "fJjpGUqR8f-f",
        "outputId": "afdaaa88-88d0-4150-8667-967887832ebc"
      },
      "execution_count": 28,
      "outputs": [
        {
          "output_type": "stream",
          "name": "stdout",
          "text": [
            "The sum is 48\n",
            "\n",
            "\n",
            "1\n",
            "2\n",
            "3\n",
            "4\n",
            "5\n",
            "6\n",
            "7\n",
            "8\n",
            "9\n",
            "10\n",
            "\n",
            "\n",
            "1\n",
            "3\n",
            "5\n",
            "7\n",
            "9\n",
            "\n",
            "\n",
            "[2, 4, 6, 8]\n",
            "\n",
            "\n"
          ]
        }
      ]
    },
    {
      "cell_type": "code",
      "source": [
        "#using statements in ffor loop\n",
        "digits=[0,1,5]\n",
        "for i in digits:\n",
        "  print(i)\n",
        "else:\n",
        "  print(\"no items left\")\n",
        "\n",
        "print(\"\\n\")\n",
        "\n",
        "for l in \"python\":\n",
        "  print(\"Current letter:\",l)\n",
        "  \n",
        "\n",
        "#iterating by sequence indexing\n",
        "print(\"\\n\")\n",
        "fruit=['apple','banana','grapes']\n",
        "for index in range(len(fruit)):\n",
        "  print('Current fruit:',fruit[index])"
      ],
      "metadata": {
        "colab": {
          "base_uri": "https://localhost:8080/"
        },
        "id": "fij0S2h8809X",
        "outputId": "97b24a78-28c4-49a0-d260-43722e85a675"
      },
      "execution_count": 29,
      "outputs": [
        {
          "output_type": "stream",
          "name": "stdout",
          "text": [
            "0\n",
            "1\n",
            "5\n",
            "no items left\n",
            "\n",
            "\n",
            "Current letter: p\n",
            "Current letter: y\n",
            "Current letter: t\n",
            "Current letter: h\n",
            "Current letter: o\n",
            "Current letter: n\n",
            "\n",
            "\n",
            "Current fruit: apple\n",
            "Current fruit: banana\n",
            "Current fruit: grapes\n"
          ]
        }
      ]
    },
    {
      "cell_type": "code",
      "source": [
        "X=[[12,7,3],\n",
        "   [4,5,6],\n",
        "   [7,8,9]]\n",
        "\n",
        "Y=[[5,8,1],[1,1,0],[5,3,7]]\n",
        "res=[[0,0,0],[0,0,0],[0,0,0]]\n",
        "for i in range(len(X)):\n",
        "  for j in range(len(X[0])):\n",
        "    res[i][j]=X[i][j]+Y[i][j]\n",
        "  for r in res:\n",
        "    print(r)"
      ],
      "metadata": {
        "colab": {
          "base_uri": "https://localhost:8080/"
        },
        "id": "KU3agksa83io",
        "outputId": "9386230e-0f6b-452b-ab7e-ff3c1e9f616b"
      },
      "execution_count": 30,
      "outputs": [
        {
          "output_type": "stream",
          "name": "stdout",
          "text": [
            "[17, 15, 4]\n",
            "[0, 0, 0]\n",
            "[0, 0, 0]\n",
            "[17, 15, 4]\n",
            "[5, 6, 6]\n",
            "[0, 0, 0]\n",
            "[17, 15, 4]\n",
            "[5, 6, 6]\n",
            "[12, 11, 16]\n"
          ]
        }
      ]
    },
    {
      "cell_type": "code",
      "source": [
        "X=[[12,7,3],\n",
        "   [4,5,6],\n",
        "   [7,8,9]]\n",
        "\n",
        "Y=[[5,8,1],[1,1,0],[5,3,7]]\n",
        "res=[[0,0,0],[0,0,0],[0,0,0]]\n",
        "for i in range(len(X)):\n",
        "  for j in range(len(X[0])):\n",
        "    res[i][j]=X[i][j]-Y[i][j]\n",
        "  for r in res:\n",
        "    print(r)"
      ],
      "metadata": {
        "colab": {
          "base_uri": "https://localhost:8080/"
        },
        "id": "dMtAmKid8-MO",
        "outputId": "0255cd81-3bae-4ae7-abcf-aac3210563f0"
      },
      "execution_count": 31,
      "outputs": [
        {
          "output_type": "stream",
          "name": "stdout",
          "text": [
            "[7, -1, 2]\n",
            "[0, 0, 0]\n",
            "[0, 0, 0]\n",
            "[7, -1, 2]\n",
            "[3, 4, 6]\n",
            "[0, 0, 0]\n",
            "[7, -1, 2]\n",
            "[3, 4, 6]\n",
            "[2, 5, 2]\n"
          ]
        }
      ]
    },
    {
      "cell_type": "code",
      "source": [
        "num=int(input(\"Enter till which table you want to print\"))\n",
        "i=1\n",
        "while(i<=num):\n",
        "  print(f\"Table {i}\")#rawstring\n",
        "  j=1\n",
        "  while(j<=10):\n",
        "    print(f\"{i}*{j}={i*j}\")\n",
        "    print(f\"{i}+{j}={i+j}\")\n",
        "    print(f\"{i}-{j}={i-j}\")\n",
        "    print(f\"{i}/{j}={i/j}\")\n",
        "    j=j+1\n",
        "  print(\"_____________________\")\n",
        "  i=i+1"
      ],
      "metadata": {
        "colab": {
          "base_uri": "https://localhost:8080/"
        },
        "id": "pRzqVVX59Jmz",
        "outputId": "6b0f83fd-caa9-4e1c-817b-e1b8e1e0c8ea"
      },
      "execution_count": 32,
      "outputs": [
        {
          "output_type": "stream",
          "name": "stdout",
          "text": [
            "Enter till which table you want to print7\n",
            "Table 1\n",
            "1*1=1\n",
            "1+1=2\n",
            "1-1=0\n",
            "1/1=1.0\n",
            "1*2=2\n",
            "1+2=3\n",
            "1-2=-1\n",
            "1/2=0.5\n",
            "1*3=3\n",
            "1+3=4\n",
            "1-3=-2\n",
            "1/3=0.3333333333333333\n",
            "1*4=4\n",
            "1+4=5\n",
            "1-4=-3\n",
            "1/4=0.25\n",
            "1*5=5\n",
            "1+5=6\n",
            "1-5=-4\n",
            "1/5=0.2\n",
            "1*6=6\n",
            "1+6=7\n",
            "1-6=-5\n",
            "1/6=0.16666666666666666\n",
            "1*7=7\n",
            "1+7=8\n",
            "1-7=-6\n",
            "1/7=0.14285714285714285\n",
            "1*8=8\n",
            "1+8=9\n",
            "1-8=-7\n",
            "1/8=0.125\n",
            "1*9=9\n",
            "1+9=10\n",
            "1-9=-8\n",
            "1/9=0.1111111111111111\n",
            "1*10=10\n",
            "1+10=11\n",
            "1-10=-9\n",
            "1/10=0.1\n",
            "_____________________\n",
            "Table 2\n",
            "2*1=2\n",
            "2+1=3\n",
            "2-1=1\n",
            "2/1=2.0\n",
            "2*2=4\n",
            "2+2=4\n",
            "2-2=0\n",
            "2/2=1.0\n",
            "2*3=6\n",
            "2+3=5\n",
            "2-3=-1\n",
            "2/3=0.6666666666666666\n",
            "2*4=8\n",
            "2+4=6\n",
            "2-4=-2\n",
            "2/4=0.5\n",
            "2*5=10\n",
            "2+5=7\n",
            "2-5=-3\n",
            "2/5=0.4\n",
            "2*6=12\n",
            "2+6=8\n",
            "2-6=-4\n",
            "2/6=0.3333333333333333\n",
            "2*7=14\n",
            "2+7=9\n",
            "2-7=-5\n",
            "2/7=0.2857142857142857\n",
            "2*8=16\n",
            "2+8=10\n",
            "2-8=-6\n",
            "2/8=0.25\n",
            "2*9=18\n",
            "2+9=11\n",
            "2-9=-7\n",
            "2/9=0.2222222222222222\n",
            "2*10=20\n",
            "2+10=12\n",
            "2-10=-8\n",
            "2/10=0.2\n",
            "_____________________\n",
            "Table 3\n",
            "3*1=3\n",
            "3+1=4\n",
            "3-1=2\n",
            "3/1=3.0\n",
            "3*2=6\n",
            "3+2=5\n",
            "3-2=1\n",
            "3/2=1.5\n",
            "3*3=9\n",
            "3+3=6\n",
            "3-3=0\n",
            "3/3=1.0\n",
            "3*4=12\n",
            "3+4=7\n",
            "3-4=-1\n",
            "3/4=0.75\n",
            "3*5=15\n",
            "3+5=8\n",
            "3-5=-2\n",
            "3/5=0.6\n",
            "3*6=18\n",
            "3+6=9\n",
            "3-6=-3\n",
            "3/6=0.5\n",
            "3*7=21\n",
            "3+7=10\n",
            "3-7=-4\n",
            "3/7=0.42857142857142855\n",
            "3*8=24\n",
            "3+8=11\n",
            "3-8=-5\n",
            "3/8=0.375\n",
            "3*9=27\n",
            "3+9=12\n",
            "3-9=-6\n",
            "3/9=0.3333333333333333\n",
            "3*10=30\n",
            "3+10=13\n",
            "3-10=-7\n",
            "3/10=0.3\n",
            "_____________________\n",
            "Table 4\n",
            "4*1=4\n",
            "4+1=5\n",
            "4-1=3\n",
            "4/1=4.0\n",
            "4*2=8\n",
            "4+2=6\n",
            "4-2=2\n",
            "4/2=2.0\n",
            "4*3=12\n",
            "4+3=7\n",
            "4-3=1\n",
            "4/3=1.3333333333333333\n",
            "4*4=16\n",
            "4+4=8\n",
            "4-4=0\n",
            "4/4=1.0\n",
            "4*5=20\n",
            "4+5=9\n",
            "4-5=-1\n",
            "4/5=0.8\n",
            "4*6=24\n",
            "4+6=10\n",
            "4-6=-2\n",
            "4/6=0.6666666666666666\n",
            "4*7=28\n",
            "4+7=11\n",
            "4-7=-3\n",
            "4/7=0.5714285714285714\n",
            "4*8=32\n",
            "4+8=12\n",
            "4-8=-4\n",
            "4/8=0.5\n",
            "4*9=36\n",
            "4+9=13\n",
            "4-9=-5\n",
            "4/9=0.4444444444444444\n",
            "4*10=40\n",
            "4+10=14\n",
            "4-10=-6\n",
            "4/10=0.4\n",
            "_____________________\n",
            "Table 5\n",
            "5*1=5\n",
            "5+1=6\n",
            "5-1=4\n",
            "5/1=5.0\n",
            "5*2=10\n",
            "5+2=7\n",
            "5-2=3\n",
            "5/2=2.5\n",
            "5*3=15\n",
            "5+3=8\n",
            "5-3=2\n",
            "5/3=1.6666666666666667\n",
            "5*4=20\n",
            "5+4=9\n",
            "5-4=1\n",
            "5/4=1.25\n",
            "5*5=25\n",
            "5+5=10\n",
            "5-5=0\n",
            "5/5=1.0\n",
            "5*6=30\n",
            "5+6=11\n",
            "5-6=-1\n",
            "5/6=0.8333333333333334\n",
            "5*7=35\n",
            "5+7=12\n",
            "5-7=-2\n",
            "5/7=0.7142857142857143\n",
            "5*8=40\n",
            "5+8=13\n",
            "5-8=-3\n",
            "5/8=0.625\n",
            "5*9=45\n",
            "5+9=14\n",
            "5-9=-4\n",
            "5/9=0.5555555555555556\n",
            "5*10=50\n",
            "5+10=15\n",
            "5-10=-5\n",
            "5/10=0.5\n",
            "_____________________\n",
            "Table 6\n",
            "6*1=6\n",
            "6+1=7\n",
            "6-1=5\n",
            "6/1=6.0\n",
            "6*2=12\n",
            "6+2=8\n",
            "6-2=4\n",
            "6/2=3.0\n",
            "6*3=18\n",
            "6+3=9\n",
            "6-3=3\n",
            "6/3=2.0\n",
            "6*4=24\n",
            "6+4=10\n",
            "6-4=2\n",
            "6/4=1.5\n",
            "6*5=30\n",
            "6+5=11\n",
            "6-5=1\n",
            "6/5=1.2\n",
            "6*6=36\n",
            "6+6=12\n",
            "6-6=0\n",
            "6/6=1.0\n",
            "6*7=42\n",
            "6+7=13\n",
            "6-7=-1\n",
            "6/7=0.8571428571428571\n",
            "6*8=48\n",
            "6+8=14\n",
            "6-8=-2\n",
            "6/8=0.75\n",
            "6*9=54\n",
            "6+9=15\n",
            "6-9=-3\n",
            "6/9=0.6666666666666666\n",
            "6*10=60\n",
            "6+10=16\n",
            "6-10=-4\n",
            "6/10=0.6\n",
            "_____________________\n",
            "Table 7\n",
            "7*1=7\n",
            "7+1=8\n",
            "7-1=6\n",
            "7/1=7.0\n",
            "7*2=14\n",
            "7+2=9\n",
            "7-2=5\n",
            "7/2=3.5\n",
            "7*3=21\n",
            "7+3=10\n",
            "7-3=4\n",
            "7/3=2.3333333333333335\n",
            "7*4=28\n",
            "7+4=11\n",
            "7-4=3\n",
            "7/4=1.75\n",
            "7*5=35\n",
            "7+5=12\n",
            "7-5=2\n",
            "7/5=1.4\n",
            "7*6=42\n",
            "7+6=13\n",
            "7-6=1\n",
            "7/6=1.1666666666666667\n",
            "7*7=49\n",
            "7+7=14\n",
            "7-7=0\n",
            "7/7=1.0\n",
            "7*8=56\n",
            "7+8=15\n",
            "7-8=-1\n",
            "7/8=0.875\n",
            "7*9=63\n",
            "7+9=16\n",
            "7-9=-2\n",
            "7/9=0.7777777777777778\n",
            "7*10=70\n",
            "7+10=17\n",
            "7-10=-3\n",
            "7/10=0.7\n",
            "_____________________\n"
          ]
        }
      ]
    },
    {
      "cell_type": "code",
      "source": [
        "Countries_list=['Finland','Germany','Sweden','Ireland','Turkey']\n",
        "for i in Countries_list:\n",
        "  if(\"and\" in i): \n",
        "     print(i)"
      ],
      "metadata": {
        "colab": {
          "base_uri": "https://localhost:8080/"
        },
        "id": "9HI9H_3q9aaZ",
        "outputId": "49a7258e-8aca-463b-ce19-908d9cdb81f0"
      },
      "execution_count": 33,
      "outputs": [
        {
          "output_type": "stream",
          "name": "stdout",
          "text": [
            "Finland\n",
            "Ireland\n"
          ]
        }
      ]
    },
    {
      "cell_type": "code",
      "source": [
        "x=85\n",
        "y=90\n",
        "z=98\n",
        "avg=x+y+z\n",
        "avg=avg/3\n",
        "if(avg>90):\n",
        "  print(\"grade A\")\n",
        "elif(avg>80 and avg<90):\n",
        "  print(\"grade B\")\n",
        "elif(avg>70 and avg<80):\n",
        "  print(\"grade C\")\n",
        "elif(avg>60 and avg<70):\n",
        "  print(\"grade D\")\n",
        "else:\n",
        "  print(\"grade F\")"
      ],
      "metadata": {
        "colab": {
          "base_uri": "https://localhost:8080/"
        },
        "id": "eIS02PFL9dp2",
        "outputId": "564b2c43-6f89-42bc-f178-fdc743b5c243"
      },
      "execution_count": 34,
      "outputs": [
        {
          "output_type": "stream",
          "name": "stdout",
          "text": [
            "grade A\n"
          ]
        }
      ]
    },
    {
      "cell_type": "code",
      "source": [
        "c=[\"Delhi\",\"Telangana\",\"Goa\",\"AP\",\"Kerala\"]\n",
        "l=[]\n",
        "for i in c:\n",
        "  l.append(i[0])\n",
        "  l.append(i[len(i)-1])\n",
        "print(l)\n",
        "str=\"\".join(l)\n",
        "print(str)\n",
        "str=str.swapcase()\n",
        "print(str)"
      ],
      "metadata": {
        "colab": {
          "base_uri": "https://localhost:8080/"
        },
        "id": "NDQEtaVC9omP",
        "outputId": "80107042-2b43-450d-fa36-1713dc14b42b"
      },
      "execution_count": 35,
      "outputs": [
        {
          "output_type": "stream",
          "name": "stdout",
          "text": [
            "['D', 'i', 'T', 'a', 'G', 'a', 'A', 'P', 'K', 'a']\n",
            "DiTaGaAPKa\n",
            "dItAgAapkA\n"
          ]
        }
      ]
    },
    {
      "cell_type": "code",
      "source": [
        "c=[\"Delhi\",\"Telangana\",\"Goa\",\"AP\",\"Kerala\"]\n",
        "str=\"\"\n",
        "for i in c:\n",
        "  str+=i[0].lower()+i[-1].upper()\n",
        "print(str)"
      ],
      "metadata": {
        "colab": {
          "base_uri": "https://localhost:8080/"
        },
        "id": "g9T-OMwI9ys0",
        "outputId": "0bbfa821-ef59-41a5-db74-fc2c5f9cffd4"
      },
      "execution_count": 36,
      "outputs": [
        {
          "output_type": "stream",
          "name": "stdout",
          "text": [
            "dItAgAaPkA\n"
          ]
        }
      ]
    },
    {
      "cell_type": "code",
      "source": [
        "#user defined functions\n",
        "def greet(name):\n",
        "  '''this function greets a person'''\n",
        "  print(\"Hello,\\t\"+name+\"\\tGood Morning\")\n",
        "greet(\"SRK\")"
      ],
      "metadata": {
        "colab": {
          "base_uri": "https://localhost:8080/"
        },
        "id": "GztLVGQU98Kz",
        "outputId": "51f6bdbf-576c-4337-c168-e8f63970507e"
      },
      "execution_count": 37,
      "outputs": [
        {
          "output_type": "stream",
          "name": "stdout",
          "text": [
            "Hello,\tSRK\tGood Morning\n"
          ]
        }
      ]
    },
    {
      "cell_type": "code",
      "source": [
        "#default\n",
        "def A(a,b=1,c=2):\n",
        "  return a+b+c\n",
        "print(A(3))\n",
        "print(A(4,4,4))\n",
        "print(A(2,2))"
      ],
      "metadata": {
        "colab": {
          "base_uri": "https://localhost:8080/"
        },
        "id": "fCTP8OOT9-4C",
        "outputId": "4d86f02c-c283-4284-c4bf-8472361ab194"
      },
      "execution_count": 38,
      "outputs": [
        {
          "output_type": "stream",
          "name": "stdout",
          "text": [
            "6\n",
            "12\n",
            "6\n"
          ]
        }
      ]
    },
    {
      "cell_type": "code",
      "source": [
        "#keyword\n",
        "def A(a,b=1,c=2):\n",
        "  return a+b+c\n",
        "print(A(a=2,b=3))\n",
        "print(A(c=3,b=2,a=1))"
      ],
      "metadata": {
        "colab": {
          "base_uri": "https://localhost:8080/"
        },
        "id": "5tYW6ZYE-FYW",
        "outputId": "b3f38475-f458-4985-9223-8e172277eaa7"
      },
      "execution_count": 39,
      "outputs": [
        {
          "output_type": "stream",
          "name": "stdout",
          "text": [
            "7\n",
            "6\n"
          ]
        }
      ]
    },
    {
      "cell_type": "code",
      "source": [
        "#positional\n",
        "def add(a,b,c):\n",
        "  return a+b+c\n",
        "print(add(10,20,30))\n",
        "print(add(10,b=20,c=30))"
      ],
      "metadata": {
        "colab": {
          "base_uri": "https://localhost:8080/"
        },
        "id": "uq8iZRfP-dmS",
        "outputId": "ce17ff0e-0092-4262-e12a-d85ae789789d"
      },
      "execution_count": 40,
      "outputs": [
        {
          "output_type": "stream",
          "name": "stdout",
          "text": [
            "60\n",
            "60\n"
          ]
        }
      ]
    },
    {
      "cell_type": "code",
      "source": [
        "#arbitrary keyword\n",
        "def key_arg(**kwargs):\n",
        "  return kwargs\n",
        "my_dict=key_arg(Apples=10,Oranges=20,Mangoes=30)\n",
        "print(my_dict['Apples'])\n",
        "print(my_dict)"
      ],
      "metadata": {
        "colab": {
          "base_uri": "https://localhost:8080/"
        },
        "id": "4GGG1nzU-iQX",
        "outputId": "2153f0dd-e352-42d0-816d-e7163be6194d"
      },
      "execution_count": 41,
      "outputs": [
        {
          "output_type": "stream",
          "name": "stdout",
          "text": [
            "10\n",
            "{'Apples': 10, 'Oranges': 20, 'Mangoes': 30}\n"
          ]
        }
      ]
    },
    {
      "cell_type": "code",
      "source": [
        "#higher order functions\n",
        "def laugh(text):\n",
        "  return text.upper()\n",
        "\n",
        "def smile(text):\n",
        "  return text.lower()\n",
        "\n",
        "def think(func):\n",
        "  greet=func(\"Hi,I am higher order function\")\n",
        "  print(greet)\n",
        "\n",
        "think(laugh)\n",
        "think(smile)\n",
        "\n",
        "#print(laugh)\n",
        "#print(smile)"
      ],
      "metadata": {
        "colab": {
          "base_uri": "https://localhost:8080/"
        },
        "id": "8JG9Ggc3-tGZ",
        "outputId": "ddaeff11-c6e0-47d5-e8e3-91ce280b7372"
      },
      "execution_count": 42,
      "outputs": [
        {
          "output_type": "stream",
          "name": "stdout",
          "text": [
            "HI,I AM HIGHER ORDER FUNCTION\n",
            "hi,i am higher order function\n"
          ]
        }
      ]
    },
    {
      "cell_type": "code",
      "source": [
        "#lambda\n",
        "\n",
        "def incr(x):\n",
        "  x=x+1\n",
        "  return x\n",
        "print(incr(4))\n",
        "\n",
        "print((lambda x:x+1)(4))\n",
        "\n",
        "res=lambda x:x+1\n",
        "print(res(4))\n"
      ],
      "metadata": {
        "colab": {
          "base_uri": "https://localhost:8080/"
        },
        "id": "mDyxtEJl-vpt",
        "outputId": "4ebb6aff-3652-40a8-e611-9a2f6be8ab9f"
      },
      "execution_count": 43,
      "outputs": [
        {
          "output_type": "stream",
          "name": "stdout",
          "text": [
            "5\n",
            "5\n",
            "5\n"
          ]
        }
      ]
    },
    {
      "cell_type": "code",
      "source": [
        "print((lambda x,y:x**y)(2,2))\n",
        "print((lambda x,y:x+y)(2,3))\n",
        "\n",
        "res=lambda x,y:x+y \n",
        "print(res(2,3))"
      ],
      "metadata": {
        "colab": {
          "base_uri": "https://localhost:8080/"
        },
        "id": "VNatHBGV-0vw",
        "outputId": "9932f3d5-b4c6-4194-df12-2c9b2009e3c8"
      },
      "execution_count": 44,
      "outputs": [
        {
          "output_type": "stream",
          "name": "stdout",
          "text": [
            "4\n",
            "5\n",
            "5\n"
          ]
        }
      ]
    },
    {
      "cell_type": "code",
      "source": [
        "def inc(num):\n",
        "  return num+2\n",
        "res_list=list(map(inc,li))\n",
        "print(res_list)\n",
        "\n",
        "res_list=list(map(lambda x:x+2,li))\n",
        "print(res_list)\n",
        "\n",
        "print(list(map(lambda x:x+2,li)))"
      ],
      "metadata": {
        "colab": {
          "base_uri": "https://localhost:8080/"
        },
        "id": "iS9q1_nC_EWQ",
        "outputId": "1ae4e392-9195-4d6a-ea34-0107610bee16"
      },
      "execution_count": 46,
      "outputs": [
        {
          "output_type": "stream",
          "name": "stdout",
          "text": [
            "[3, 4, 7, 8, 9, 12, 17, 27, 67, 80, 92]\n",
            "[3, 4, 7, 8, 9, 12, 17, 27, 67, 80, 92]\n",
            "[3, 4, 7, 8, 9, 12, 17, 27, 67, 80, 92]\n"
          ]
        }
      ]
    },
    {
      "cell_type": "code",
      "source": [
        "def eor(num):\n",
        "  if num%2==0:\n",
        "    return \"The number {} is even\".format(num)\n",
        "  else:\n",
        "    return \"The number {} is odd\".format(num)\n",
        "eor(20)"
      ],
      "metadata": {
        "colab": {
          "base_uri": "https://localhost:8080/",
          "height": 36
        },
        "id": "-R_XZ7Mb_c78",
        "outputId": "f2dd483b-a7b2-4f05-fb99-45fa0375f6e8"
      },
      "execution_count": 47,
      "outputs": [
        {
          "output_type": "execute_result",
          "data": {
            "text/plain": [
              "'The number 20 is even'"
            ],
            "application/vnd.google.colaboratory.intrinsic+json": {
              "type": "string"
            }
          },
          "metadata": {},
          "execution_count": 47
        }
      ]
    },
    {
      "cell_type": "code",
      "source": [
        "l=[1,2,3,4,5,6,7,8,9,10]\n",
        "list(map(eor,l))"
      ],
      "metadata": {
        "colab": {
          "base_uri": "https://localhost:8080/"
        },
        "id": "lmW6Nda2_fBJ",
        "outputId": "35821cde-917d-4de3-9900-05fef5f71755"
      },
      "execution_count": 48,
      "outputs": [
        {
          "output_type": "execute_result",
          "data": {
            "text/plain": [
              "['The number 1 is odd',\n",
              " 'The number 2 is even',\n",
              " 'The number 3 is odd',\n",
              " 'The number 4 is even',\n",
              " 'The number 5 is odd',\n",
              " 'The number 6 is even',\n",
              " 'The number 7 is odd',\n",
              " 'The number 8 is even',\n",
              " 'The number 9 is odd',\n",
              " 'The number 10 is even']"
            ]
          },
          "metadata": {},
          "execution_count": 48
        }
      ]
    },
    {
      "cell_type": "code",
      "source": [
        "li=['apple','banana','grapes']\n",
        "\n",
        "r=list(map(lambda x:x.capitalize(),li))\n",
        "\n",
        "print(r)"
      ],
      "metadata": {
        "colab": {
          "base_uri": "https://localhost:8080/"
        },
        "id": "sLBIuFwPr1Bh",
        "outputId": "00684746-7542-4f2c-b07d-225b727f2c47"
      },
      "execution_count": null,
      "outputs": [
        {
          "output_type": "stream",
          "name": "stdout",
          "text": [
            "['Apple', 'Banana', 'Grapes']\n"
          ]
        }
      ]
    },
    {
      "cell_type": "code",
      "execution_count": null,
      "metadata": {
        "colab": {
          "base_uri": "https://localhost:8080/"
        },
        "id": "B1L1xodPqrSR",
        "outputId": "a503bbd5-dd2e-42ae-9025-a371ad80e5cf"
      },
      "outputs": [
        {
          "output_type": "stream",
          "name": "stdout",
          "text": [
            "[9, 35]\n",
            "[18, 94, 16, 22, 56, 32]\n"
          ]
        }
      ],
      "source": [
        "#filter\n",
        "def odd_num(n):\n",
        "  if n%2!=0:\n",
        "    return n\n",
        "my_list=[9,26,35,-2,50]\n",
        "print(list(filter(odd_num,my_list)))\n",
        "\n",
        "my_list=[18,94,33,16,99,22,56,101,32]\n",
        "temp=list(filter(lambda x:x%2==0,my_list))\n",
        "print(temp)"
      ]
    },
    {
      "cell_type": "code",
      "source": [
        "#modules\n",
        "import os\n",
        "os.mkdir(\"hi\")\n",
        "os.chdir(\"hi\")\n",
        "os.getcwd()\n",
        "os.listdir()\n",
        "os.rmdir(\"/content/hi\")"
      ],
      "metadata": {
        "id": "eV82AusvqwFH"
      },
      "execution_count": null,
      "outputs": []
    },
    {
      "cell_type": "code",
      "source": [
        "#math module\n",
        "import math as m\n",
        "print(m.pi)\n",
        "print(m.e)\n",
        "print(m.sqrt(4))\n",
        "print(m.factorial(5))\n",
        "print(m.pow(2,2))\n",
        "print(m.floor(1.4))\n",
        "print(m.tan(5))\n",
        "print(m.log(2))"
      ],
      "metadata": {
        "colab": {
          "base_uri": "https://localhost:8080/"
        },
        "id": "1hp_GX4jrRoh",
        "outputId": "d0d0f0a2-336b-431d-90fb-18061f7c57eb"
      },
      "execution_count": null,
      "outputs": [
        {
          "output_type": "stream",
          "name": "stdout",
          "text": [
            "3.141592653589793\n",
            "2.718281828459045\n",
            "2.0\n",
            "120\n",
            "4.0\n",
            "1\n",
            "-3.380515006246586\n",
            "0.6931471805599453\n"
          ]
        }
      ]
    },
    {
      "cell_type": "code",
      "source": [
        "#sys module\n",
        "import sys\n",
        "print(sys.path)\n",
        "print(sys.version)\n",
        "print(sys.maxsize)"
      ],
      "metadata": {
        "colab": {
          "base_uri": "https://localhost:8080/"
        },
        "id": "RaiWyeKBrwsi",
        "outputId": "2776bc13-ce03-47e4-ed87-4051035ea25a"
      },
      "execution_count": null,
      "outputs": [
        {
          "output_type": "stream",
          "name": "stdout",
          "text": [
            "['', '/content', '/env/python', '/usr/lib/python37.zip', '/usr/lib/python3.7', '/usr/lib/python3.7/lib-dynload', '/usr/local/lib/python3.7/dist-packages', '/usr/lib/python3/dist-packages', '/usr/local/lib/python3.7/dist-packages/IPython/extensions', '/root/.ipython']\n",
            "3.7.13 (default, Apr 24 2022, 01:04:09) \n",
            "[GCC 7.5.0]\n",
            "9223372036854775807\n"
          ]
        }
      ]
    },
    {
      "cell_type": "code",
      "source": [
        "#statistics module\n",
        "import statistics as st\n",
        "print(st.mean([21,29,34]))\n",
        "print(st.median([1,2,3,4,5]))\n",
        "print(st.mode([1,2,3,1,1]))"
      ],
      "metadata": {
        "colab": {
          "base_uri": "https://localhost:8080/"
        },
        "id": "4KYmLFhVsSHf",
        "outputId": "a8834c8b-264e-404c-cc97-d786f2c40cff"
      },
      "execution_count": null,
      "outputs": [
        {
          "output_type": "stream",
          "name": "stdout",
          "text": [
            "28\n",
            "3\n",
            "1\n"
          ]
        }
      ]
    },
    {
      "cell_type": "code",
      "source": [
        "#time module\n",
        "import time\n",
        "print(time.time())\n",
        "print(time.localtime())\n",
        "print(time.asctime())\n",
        "print(time.ctime())\n",
        "#print(time.ctime())"
      ],
      "metadata": {
        "colab": {
          "base_uri": "https://localhost:8080/"
        },
        "id": "26AZDJmNs1nv",
        "outputId": "92a0f4df-dfb6-48c2-fd0e-3c761a564eb9"
      },
      "execution_count": null,
      "outputs": [
        {
          "output_type": "stream",
          "name": "stdout",
          "text": [
            "1655201739.14311\n",
            "time.struct_time(tm_year=2022, tm_mon=6, tm_mday=14, tm_hour=10, tm_min=15, tm_sec=39, tm_wday=1, tm_yday=165, tm_isdst=0)\n",
            "Tue Jun 14 10:15:39 2022\n",
            "Tue Jun 14 10:15:39 2022\n"
          ]
        }
      ]
    },
    {
      "cell_type": "code",
      "source": [
        "#random module\n",
        "import random\n",
        "print(random.randrange(1,50))\n",
        "print(random.randint(1,100))\n",
        "print(random.random())"
      ],
      "metadata": {
        "colab": {
          "base_uri": "https://localhost:8080/"
        },
        "id": "UFZqoi9_tj_M",
        "outputId": "685b6f7d-27ae-4675-8fe5-8ce36d1743a4"
      },
      "execution_count": null,
      "outputs": [
        {
          "output_type": "stream",
          "name": "stdout",
          "text": [
            "23\n",
            "54\n",
            "0.7977008128968152\n"
          ]
        }
      ]
    },
    {
      "cell_type": "code",
      "source": [
        "import random\n",
        "g_num=random.randint(0,5)\n",
        "g2_num=int(input(\"PREDICT A NUMBER\"))\n",
        "if g2_num==g_num:\n",
        "  print(\"you won\")\n",
        "else:\n",
        "  print(\"you lost\")"
      ],
      "metadata": {
        "colab": {
          "base_uri": "https://localhost:8080/"
        },
        "id": "5NjAfcaYuLvD",
        "outputId": "14aa6920-26c3-46ea-f84c-3f70e873e08a"
      },
      "execution_count": null,
      "outputs": [
        {
          "output_type": "stream",
          "name": "stdout",
          "text": [
            "PREDICT A NUMBER1\n",
            "you lost\n"
          ]
        }
      ]
    },
    {
      "cell_type": "code",
      "source": [
        "li=[1,2,5,6,7,10,15,25,65,78,90]\n",
        "l2=[]\n",
        "for i in li:\n",
        "  if i%5!=0:\n",
        "   l2.append(i)\n",
        "print(l2)"
      ],
      "metadata": {
        "colab": {
          "base_uri": "https://localhost:8080/"
        },
        "id": "WlbZVLNv1wti",
        "outputId": "59657942-f145-4b72-9b8c-e14b63e77a6f"
      },
      "execution_count": null,
      "outputs": [
        {
          "output_type": "stream",
          "name": "stdout",
          "text": [
            "[1, 2, 6, 7, 78]\n"
          ]
        }
      ]
    },
    {
      "cell_type": "code",
      "source": [
        "li=[1,2,5,6,7,10,15,25,65,78,90]\n",
        "for i in li:\n",
        "  if i%5==0:\n",
        "    li.remove(i)\n",
        "print(li)"
      ],
      "metadata": {
        "colab": {
          "base_uri": "https://localhost:8080/"
        },
        "id": "a_fJp8bs2nbJ",
        "outputId": "0b8803a3-e2f1-434f-c6e0-570d928cfb88"
      },
      "execution_count": null,
      "outputs": [
        {
          "output_type": "stream",
          "name": "stdout",
          "text": [
            "[1, 2, 6, 7, 15, 65, 78]\n"
          ]
        }
      ]
    },
    {
      "cell_type": "code",
      "source": [
        "li=[1,2,5,6,7,10,15,25,65,78,90]\n",
        "res=list(filter(lambda x:x%5!=0,li))\n",
        "print(res)"
      ],
      "metadata": {
        "colab": {
          "base_uri": "https://localhost:8080/"
        },
        "id": "gNorz-6_4qM5",
        "outputId": "ede27183-088c-43ae-cc84-5de56ac5d2c3"
      },
      "execution_count": null,
      "outputs": [
        {
          "output_type": "stream",
          "name": "stdout",
          "text": [
            "[1, 2, 6, 7, 78]\n"
          ]
        }
      ]
    },
    {
      "cell_type": "code",
      "source": [
        "fruit=[\"Apple\",\"Banana\",\"Pear\",\"Avocado\",\"Orange\",\"Amla\"]\n",
        "l=[]\n",
        "t=list(filter(lambda x:x[0]=='A',fruit))\n",
        "print(t)"
      ],
      "metadata": {
        "colab": {
          "base_uri": "https://localhost:8080/"
        },
        "id": "EA2HpE9y6lH6",
        "outputId": "964b5da0-dc21-4a79-c790-d4221d010c72"
      },
      "execution_count": null,
      "outputs": [
        {
          "output_type": "stream",
          "name": "stdout",
          "text": [
            "['Apple', 'Avocado', 'Amla']\n"
          ]
        }
      ]
    }
  ]
}