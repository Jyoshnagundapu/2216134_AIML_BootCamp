{
  "nbformat": 4,
  "nbformat_minor": 0,
  "metadata": {
    "colab": {
      "name": "Assignment1.ipynb",
      "provenance": [],
      "collapsed_sections": [],
      "authorship_tag": "ABX9TyNx0hkcKKtW4zqV53ufTrQ1",
      "include_colab_link": true
    },
    "kernelspec": {
      "name": "python3",
      "display_name": "Python 3"
    },
    "language_info": {
      "name": "python"
    }
  },
  "cells": [
    {
      "cell_type": "markdown",
      "metadata": {
        "id": "view-in-github",
        "colab_type": "text"
      },
      "source": [
        "<a href=\"https://colab.research.google.com/github/Jyoshnagundapu/2216134_AIML_BootCamp/blob/main/Assignment1.ipynb\" target=\"_parent\"><img src=\"https://colab.research.google.com/assets/colab-badge.svg\" alt=\"Open In Colab\"/></a>"
      ]
    },
    {
      "cell_type": "markdown",
      "source": [
        "1.Implement the methods of String with examples."
      ],
      "metadata": {
        "id": "5TVfPFwS102D"
      }
    },
    {
      "cell_type": "code",
      "execution_count": 1,
      "metadata": {
        "colab": {
          "base_uri": "https://localhost:8080/"
        },
        "id": "4uMygeIEiKnM",
        "outputId": "3531c6d2-8c42-40ab-a18d-f42548b64a01"
      },
      "outputs": [
        {
          "output_type": "stream",
          "name": "stdout",
          "text": [
            "Gundapu Jyoshna\n",
            "15\n",
            "p\n",
            "Gundapu jyoshna\n",
            "GUNDAPU JYOSHNA\n",
            "Gundapu Jyoshna\n",
            "gundapu jyoshna\n",
            "Gundapu Kyoshna\n",
            "HiiiSenior\n",
            "Enter your name:Jyosh\n",
            "My name is Jyosh\n"
          ]
        }
      ],
      "source": [
        "str='Gundapu Jyoshna'\n",
        "print(str)\n",
        "print(len(str))\n",
        "print(str[5])\n",
        "print(str.capitalize())\n",
        "print(str.upper())\n",
        "print(str.title())\n",
        "print(str.lower())\n",
        "print(str.replace('J','K'))\n",
        "x=\"Hiii\"\n",
        "y=\"Senior\"\n",
        "z=x+y\n",
        "print(z)\n",
        "str1=input('Enter your name:')\n",
        "print('My name is',str1)"
      ]
    },
    {
      "cell_type": "markdown",
      "source": [
        "2.Implement the methods of List with examples."
      ],
      "metadata": {
        "id": "oErgf-Hi1udr"
      }
    },
    {
      "cell_type": "code",
      "source": [
        "str=[1,2,3,4,\"jyosh\",\"lucky\",\"dilip\"]\n",
        "print(str)\n",
        "print(str[5])\n",
        "print(str[1:3])\n",
        "str.insert(3,\"sam\")\n",
        "print(str)\n",
        "str1=[7,8,9,\"krish\"]\n",
        "str.extend(str1)\n",
        "print(str)\n",
        "str.remove('lucky')\n",
        "print(str)\n",
        "str.pop()\n",
        "print(str)\n",
        "del str[0]\n",
        "print(str)\n",
        "str.clear()\n",
        "print(str)\n",
        "str=[1,2,[1,2,3],[1,2],3]\n",
        "print(str[2][1])\n"
      ],
      "metadata": {
        "colab": {
          "base_uri": "https://localhost:8080/"
        },
        "id": "8fhd-doTjw36",
        "outputId": "3f5896e5-3345-47f9-908c-4c5a768adb64"
      },
      "execution_count": 3,
      "outputs": [
        {
          "output_type": "stream",
          "name": "stdout",
          "text": [
            "[1, 2, 3, 4, 'jyosh', 'lucky', 'dilip']\n",
            "lucky\n",
            "[2, 3]\n",
            "[1, 2, 3, 'sam', 4, 'jyosh', 'lucky', 'dilip']\n",
            "[1, 2, 3, 'sam', 4, 'jyosh', 'lucky', 'dilip', 7, 8, 9, 'krish']\n",
            "[1, 2, 3, 'sam', 4, 'jyosh', 'dilip', 7, 8, 9, 'krish']\n",
            "[1, 2, 3, 'sam', 4, 'jyosh', 'dilip', 7, 8, 9]\n",
            "[2, 3, 'sam', 4, 'jyosh', 'dilip', 7, 8, 9]\n",
            "[]\n",
            "2\n"
          ]
        }
      ]
    },
    {
      "cell_type": "markdown",
      "source": [
        "3.Implement the methods of Tuple with examples."
      ],
      "metadata": {
        "id": "8_4zbVg21qMi"
      }
    },
    {
      "cell_type": "code",
      "source": [
        "str=(1,2,3,4)\n",
        "str1=(\"hi\",\"hello\",\"smile\")\n",
        "print(str)\n",
        "print(str[3])\n",
        "print(str[1:3])\n",
        "print(min(str))\n",
        "print(max(str))\n",
        "print(len(str))\n",
        "str=(1,2,[1,2,3],[1,2],3)\n",
        "print(s[2][1])"
      ],
      "metadata": {
        "colab": {
          "base_uri": "https://localhost:8080/"
        },
        "id": "SccBWz2jknnZ",
        "outputId": "0dffd172-5456-402f-c9a6-c2c58f987a46"
      },
      "execution_count": 12,
      "outputs": [
        {
          "output_type": "stream",
          "name": "stdout",
          "text": [
            "(1, 2, 3, 4)\n",
            "4\n",
            "(2, 3)\n",
            "1\n",
            "4\n",
            "4\n",
            "2\n"
          ]
        }
      ]
    },
    {
      "cell_type": "markdown",
      "source": [
        "4.Implement the methods of Dictionary with examples"
      ],
      "metadata": {
        "id": "VDIuuOo51l5X"
      }
    },
    {
      "cell_type": "code",
      "source": [
        "dict={'name':'jyosh','age':20,'dob': '11-04-2002'}\n",
        "print(dict.keys())\n",
        "print(dict['name'])\n",
        "print(dict.values())\n",
        "dict.update({'college':'SR University'})\n",
        "print(dict)\n",
        "dict.pop('college')\n",
        "print(dict)"
      ],
      "metadata": {
        "colab": {
          "base_uri": "https://localhost:8080/"
        },
        "id": "t01a4iYqmBWo",
        "outputId": "15ffd2d6-5795-4d55-b05f-36f72f891f1b"
      },
      "execution_count": 13,
      "outputs": [
        {
          "output_type": "stream",
          "name": "stdout",
          "text": [
            "dict_keys(['name', 'age', 'dob'])\n",
            "jyosh\n",
            "dict_values(['jyosh', 20, '11-04-2002'])\n",
            "{'name': 'jyosh', 'age': 20, 'dob': '11-04-2002', 'college': 'SR University'}\n",
            "{'name': 'jyosh', 'age': 20, 'dob': '11-04-2002'}\n"
          ]
        }
      ]
    },
    {
      "cell_type": "markdown",
      "source": [
        "5.Implement the methods of Sets with examples"
      ],
      "metadata": {
        "id": "yqSlA5Zk1hVV"
      }
    },
    {
      "cell_type": "code",
      "source": [
        "str={1,2,3,8,9,10}\n",
        "str1={1,2,3,(5,6),(1,2,3),\"holla\"}\n",
        "l=[1,2,3,4]\n",
        "str2=set(l)\n",
        "print(str2)\n",
        "str.add(2)\n",
        "print(str)\n",
        "str.update([2,3,4])\n",
        "print(str)\n",
        "str.discard(3)\n",
        "print(str)\n",
        "str.remove(4)\n",
        "print(str)\n",
        "x={10,11,12,13}\n",
        "y={9,10,8,11}\n",
        "print(x|y)\n",
        "print(x.union(y))\n",
        "print(y.union(x))\n",
        "print(x&y)\n",
        "print(x.intersection(y))\n",
        "print(y.intersection(x))\n",
        "print(x-y)\n",
        "print(x.difference(y))\n",
        "print(y-x)\n",
        "print(y.difference(x))"
      ],
      "metadata": {
        "colab": {
          "base_uri": "https://localhost:8080/"
        },
        "id": "RRpVR52rmcM3",
        "outputId": "0acb8132-9691-44d7-f3fa-9994a638f308"
      },
      "execution_count": 15,
      "outputs": [
        {
          "output_type": "stream",
          "name": "stdout",
          "text": [
            "{1, 2, 3, 4}\n",
            "{1, 2, 3, 8, 9, 10}\n",
            "{1, 2, 3, 4, 8, 9, 10}\n",
            "{1, 2, 4, 8, 9, 10}\n",
            "{1, 2, 8, 9, 10}\n",
            "{8, 9, 10, 11, 12, 13}\n",
            "{8, 9, 10, 11, 12, 13}\n",
            "{8, 9, 10, 11, 12, 13}\n",
            "{10, 11}\n",
            "{10, 11}\n",
            "{10, 11}\n",
            "{12, 13}\n",
            "{12, 13}\n",
            "{8, 9}\n",
            "{8, 9}\n"
          ]
        }
      ]
    },
    {
      "cell_type": "markdown",
      "source": [
        "6.Write a python program to convert Decimal to Binary, Octal and Hexadecimal with direct method."
      ],
      "metadata": {
        "id": "Tj4lWWxt1bkC"
      }
    },
    {
      "cell_type": "code",
      "source": [
        "x=int(input('Enter a number:'))\n",
        "print(\" input value:\",x)\n",
        "print(\"Binary value:\",bin(x))\n",
        "print(\"Octal value:\",oct(x))\n",
        "print(\"Hexadecimal value\",hex(x))"
      ],
      "metadata": {
        "colab": {
          "base_uri": "https://localhost:8080/"
        },
        "id": "dCUOq0jlk9k8",
        "outputId": "202a1098-9467-4d55-a87f-3503847abbef"
      },
      "execution_count": 17,
      "outputs": [
        {
          "output_type": "stream",
          "name": "stdout",
          "text": [
            "Enter a number:4\n",
            " input value: 4\n",
            "Binary value: 0b100\n",
            "Octal value: 0o4\n",
            "Hexadecimal value 0x4\n"
          ]
        }
      ]
    },
    {
      "cell_type": "markdown",
      "source": [
        "7.Implement Arithmetic operators with examples"
      ],
      "metadata": {
        "id": "gnF7PFm-1Vt_"
      }
    },
    {
      "cell_type": "code",
      "source": [
        "x=6\n",
        "y=4\n",
        "print('Addition is:',x+y)\n",
        "print('Subtraction is:',x-y)\n",
        "print('Multiplication is:',x*y)\n",
        "print('Division is:',x/y)\n",
        "print('Modulo division is:',x%y)\n",
        "print('Exponential is:',x**y)\n",
        "print('Floor division is:',x//y)"
      ],
      "metadata": {
        "colab": {
          "base_uri": "https://localhost:8080/"
        },
        "id": "NP4d0JtFogx5",
        "outputId": "43701ab7-e314-4cdf-885c-84dc0aff0402"
      },
      "execution_count": 22,
      "outputs": [
        {
          "output_type": "stream",
          "name": "stdout",
          "text": [
            "Addition is: 10\n",
            "Subtraction is: 2\n",
            "Multiplication is: 24\n",
            "Division is: 1.5\n",
            "Modulo division is: 2\n",
            "Exponential is: 1296\n",
            "Floor division is: 1\n"
          ]
        }
      ]
    },
    {
      "cell_type": "markdown",
      "source": [
        "8.Implement Assignment operators with examples."
      ],
      "metadata": {
        "id": "9oQZdr4q1QI_"
      }
    },
    {
      "cell_type": "code",
      "source": [
        "x=8\n",
        "y=5\n",
        "x+=y\n",
        "print('Addition is',x)\n",
        "x-=y\n",
        "print('Subtraction is',x)\n",
        "x*=y\n",
        "print('Multiplication is',x)\n",
        "x/=y\n",
        "print('Division is',x)\n",
        "x%=y\n",
        "print('Modulo division is',x)\n",
        "x**=y\n",
        "print('Exponential is',x)\n",
        "x//=y\n",
        "print('Floor division is',x)"
      ],
      "metadata": {
        "colab": {
          "base_uri": "https://localhost:8080/"
        },
        "id": "sa8xJLoTo2ti",
        "outputId": "26423ee6-6a4c-4e02-aefa-f52becd26577"
      },
      "execution_count": 20,
      "outputs": [
        {
          "output_type": "stream",
          "name": "stdout",
          "text": [
            "Addition is 13\n",
            "Subtraction is 8\n",
            "Multiplication is 40\n",
            "Division is 8.0\n",
            "Modulo division is 3.0\n",
            "Exponential is 243.0\n",
            "Floor division is 48.0\n"
          ]
        }
      ]
    },
    {
      "cell_type": "markdown",
      "source": [
        "9.Implement Comparison operators with examples."
      ],
      "metadata": {
        "id": "q6ayY80o1JTA"
      }
    },
    {
      "cell_type": "code",
      "source": [
        "p=5\n",
        "q=1\n",
        "print(p==q)\n",
        "print(p!=q)\n",
        "print(p>q)\n",
        "print(p<q)\n",
        "print(p>=q)\n",
        "print(p<=q)"
      ],
      "metadata": {
        "colab": {
          "base_uri": "https://localhost:8080/"
        },
        "id": "MBzrxk4rpU9b",
        "outputId": "18f6c690-c1c3-4b8c-9e65-3357861af142"
      },
      "execution_count": 23,
      "outputs": [
        {
          "output_type": "stream",
          "name": "stdout",
          "text": [
            "False\n",
            "True\n",
            "True\n",
            "False\n",
            "True\n",
            "False\n"
          ]
        }
      ]
    },
    {
      "cell_type": "markdown",
      "source": [
        "  10.Implement Logical operators with examples."
      ],
      "metadata": {
        "id": "gAnWtZAU1Db7"
      }
    },
    {
      "cell_type": "code",
      "source": [
        "p=True\n",
        "q=False\n",
        "print(\"a and q is\",p and q)\n",
        "print(\"a or q is\",p or q)\n",
        "print(\"a is\",not p)"
      ],
      "metadata": {
        "colab": {
          "base_uri": "https://localhost:8080/"
        },
        "id": "-Ccf5ngbp0aq",
        "outputId": "57e815eb-6141-46c6-da91-c2ec596957cb"
      },
      "execution_count": 24,
      "outputs": [
        {
          "output_type": "stream",
          "name": "stdout",
          "text": [
            "a and q is False\n",
            "a or q is True\n",
            "a is False\n"
          ]
        }
      ]
    },
    {
      "cell_type": "markdown",
      "source": [
        "11.Implement Bitwise operators with examples"
      ],
      "metadata": {
        "id": "oLgRsnlu0-VI"
      }
    },
    {
      "cell_type": "code",
      "source": [
        "x=6\n",
        "y=3\n",
        "print(x&y)\n",
        "print(x^y)\n",
        "print(x|y)\n",
        "print(~x)\n",
        "print(x>>2)\n",
        "print(x<<2)"
      ],
      "metadata": {
        "colab": {
          "base_uri": "https://localhost:8080/"
        },
        "id": "8FsS15LBqEIy",
        "outputId": "ae74e3be-93e7-4292-b469-c6a15b7cd021"
      },
      "execution_count": 25,
      "outputs": [
        {
          "output_type": "stream",
          "name": "stdout",
          "text": [
            "2\n",
            "5\n",
            "7\n",
            "-7\n",
            "1\n",
            "24\n"
          ]
        }
      ]
    },
    {
      "cell_type": "markdown",
      "source": [
        "12.Implement Membership operators with examples."
      ],
      "metadata": {
        "id": "ZkAOiQHD03ZL"
      }
    },
    {
      "cell_type": "code",
      "source": [
        "p=\"jyoshna josh\"\n",
        "q={10:'y',20:'z'}\n",
        "print('H' in p)\n",
        "print(10 in q)\n",
        "print('a' not in q)"
      ],
      "metadata": {
        "colab": {
          "base_uri": "https://localhost:8080/"
        },
        "id": "tuiph25FqXbe",
        "outputId": "2e74981b-a1bd-4b8f-9bb8-d8a10abb2ecc"
      },
      "execution_count": 26,
      "outputs": [
        {
          "output_type": "stream",
          "name": "stdout",
          "text": [
            "False\n",
            "True\n",
            "True\n"
          ]
        }
      ]
    },
    {
      "cell_type": "markdown",
      "source": [
        "13.Implement Identity operators with examples"
      ],
      "metadata": {
        "id": "DE8dE0v90yhA"
      }
    },
    {
      "cell_type": "code",
      "source": [
        "a1=100\n",
        "b1=99\n",
        "a2=\"hola\"\n",
        "b2=\"Helo\"\n",
        "a3=[1,2,3]\n",
        "b3=[1,2,3]\n",
        "print(a1 is not b1)\n",
        "print(a1 is not b1)\n",
        "print(a3 is b3)"
      ],
      "metadata": {
        "colab": {
          "base_uri": "https://localhost:8080/"
        },
        "id": "AreyGeYcqnsT",
        "outputId": "e46b58d6-3253-489d-c041-caec2c3d3bf5"
      },
      "execution_count": 27,
      "outputs": [
        {
          "output_type": "stream",
          "name": "stdout",
          "text": [
            "True\n",
            "True\n",
            "False\n"
          ]
        }
      ]
    },
    {
      "cell_type": "markdown",
      "source": [
        "14.Demonstrate Negative indexing for List and apply slicing"
      ],
      "metadata": {
        "id": "_x3P8_Pb0tE7"
      }
    },
    {
      "cell_type": "code",
      "source": [
        "list=[1,2,\"jyosh\",\"krish\"]\n",
        "print(l[-1])\n",
        "print(l[1:3])\n",
        "print(l[::-1])\n",
        "print(l[-1:-3:-1])"
      ],
      "metadata": {
        "colab": {
          "base_uri": "https://localhost:8080/"
        },
        "id": "dbdOaXYoq88E",
        "outputId": "d42e0e65-671c-4069-cf94-650ecc0035ce"
      },
      "execution_count": 29,
      "outputs": [
        {
          "output_type": "stream",
          "name": "stdout",
          "text": [
            "krish\n",
            "[2, 'jyosh']\n",
            "['krish', 'jyosh', 2, 1]\n",
            "['krish', 'jyosh']\n"
          ]
        }
      ]
    },
    {
      "cell_type": "markdown",
      "source": [
        "15. Predict the output for the given code snippet and justify the result."
      ],
      "metadata": {
        "id": "blA8t42H0TmC"
      }
    },
    {
      "cell_type": "code",
      "source": [
        "print('A series of characters designated as one object known as a string'[::-1])\n",
        "print('A series of characters designated as one object known as a string'[::-1][4::3])\n",
        "print(\"--------------------\")\n",
        "print('Welcome to Python training program'[3:10][::-1])"
      ],
      "metadata": {
        "colab": {
          "base_uri": "https://localhost:8080/"
        },
        "id": "Trj8FyIHrLGy",
        "outputId": "ec4e2273-4099-45af-8b39-e9a53a928eba"
      },
      "execution_count": 30,
      "outputs": [
        {
          "output_type": "stream",
          "name": "stdout",
          "text": [
            "gnirts a sa nwonk tcejbo eno sa detangised sretcarahc fo seires A\n",
            "taawkcbe  tgestrcoeeA\n",
            "--------------------\n",
            "ot emoc\n"
          ]
        }
      ]
    },
    {
      "cell_type": "markdown",
      "source": [
        "16. Write a python code to get desired output"
      ],
      "metadata": {
        "id": "nNJEsY_20FjS"
      }
    },
    {
      "cell_type": "code",
      "source": [
        "str=input('Enter a string')\n",
        "print('p_phrase=',str)\n",
        "t=str[::-1]\n",
        "print(t.upper())"
      ],
      "metadata": {
        "colab": {
          "base_uri": "https://localhost:8080/"
        },
        "id": "4idRN-vpyjvx",
        "outputId": "680305ac-776c-401d-9ac5-0fa11dae6397"
      },
      "execution_count": 31,
      "outputs": [
        {
          "output_type": "stream",
          "name": "stdout",
          "text": [
            "Enter a stringhello\n",
            "p_phrase= hello\n",
            "OLLEH\n"
          ]
        }
      ]
    },
    {
      "cell_type": "markdown",
      "source": [
        "17. You are required to generate a word similar to ZOO, X and Y that denote the number of Zs and Os respectively. The generated word similar to ZOO where Y= 2 * X. Input X= 2 Output ZZOOOO Input X= 5 Output ZZZZZOOOOOOOOOO"
      ],
      "metadata": {
        "id": "pu73smlFzwPZ"
      }
    },
    {
      "cell_type": "code",
      "source": [
        "x=int(input())\n",
        "for i in range(x):\n",
        "  print('A',end=\"\")\n",
        "for i in range(x<<1):\n",
        "  print('O',end=\"\")\n",
        "print(\"\\n\") \n",
        "a=int(input())\n",
        "l=[]\n",
        "for i in range(x):\n",
        "  l.insert(x,'A')\n",
        "for i in range(x<<1):\n",
        "  l.insert(x,'O')\n",
        "print(''.join(l))"
      ],
      "metadata": {
        "colab": {
          "base_uri": "https://localhost:8080/"
        },
        "id": "seLEMe9FyttV",
        "outputId": "b06ffda3-6614-45d0-9934-2305c9f467ec"
      },
      "execution_count": 32,
      "outputs": [
        {
          "output_type": "stream",
          "name": "stdout",
          "text": [
            "4\n",
            "AAAAOOOOOOOO\n",
            "\n",
            "5\n",
            "AAAAOOOOOOOO\n"
          ]
        }
      ]
    }
  ]
}